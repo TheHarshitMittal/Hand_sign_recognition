{
 "cells": [
  {
   "cell_type": "code",
   "execution_count": 3,
   "metadata": {},
   "outputs": [],
   "source": [
    "import cv2\n",
    "import os\n",
    "import datetime\n",
    "\n",
    "# Define the size of the small window\n",
    "window_size = (300, 300)\n",
    "\n",
    "# Create a folder to store the captured photos\n",
    "folder_name = 'samplee'\n",
    "if not os.path.exists(folder_name):\n",
    "    os.makedirs(folder_name)\n",
    "\n",
    "# Start the webcam\n",
    "cap = cv2.VideoCapture(0)\n",
    "\n",
    "# Display the webcam feed\n",
    "while True:\n",
    "    # Get the next frame from the webcam\n",
    "    ret, frame = cap.read()\n",
    "\n",
    "    # If the frame is not empty, display it\n",
    "    if ret:\n",
    "        # Display the small window\n",
    "        cv2.rectangle(frame, (10, 10), (window_size[0] + 10, window_size[1] + 10), (255, 0, 0), 2)\n",
    "\n",
    "        # Display the webcam feed\n",
    "        cv2.imshow('Webcam Feed', frame)\n",
    "\n",
    "        # Capture a photo of the small window if the 'd' key is pressed\n",
    "        if cv2.waitKey(1) & 0xFF == ord('d'):\n",
    "            # Crop the small window from the frame\n",
    "            cropped_frame = frame[10:10+window_size[1], 10:10+window_size[0]]\n",
    "\n",
    "            # Generate a unique filename for the captured photo\n",
    "            filename = f'{folder_name}/{datetime.datetime.now().strftime(\"%Y-%m-%d-%H-%M-%S\")}.jpg'\n",
    "\n",
    "            # Save the captured photo\n",
    "            cv2.imwrite(filename, cropped_frame)\n",
    "\n",
    "    # Press 'q' to quit\n",
    "    if cv2.waitKey(1) & 0xFF == ord('q'):\n",
    "        break\n",
    "\n",
    "# Release the webcam\n",
    "cap.release()\n",
    "\n",
    "# Close all windows\n",
    "cv2.destroyAllWindows()\n",
    "\n"
   ]
  },
  {
   "cell_type": "code",
   "execution_count": null,
   "metadata": {},
   "outputs": [],
   "source": []
  }
 ],
 "metadata": {
  "kernelspec": {
   "display_name": "Python 3",
   "language": "python",
   "name": "python3"
  },
  "language_info": {
   "codemirror_mode": {
    "name": "ipython",
    "version": 3
   },
   "file_extension": ".py",
   "mimetype": "text/x-python",
   "name": "python",
   "nbconvert_exporter": "python",
   "pygments_lexer": "ipython3",
   "version": "3.10.5"
  }
 },
 "nbformat": 4,
 "nbformat_minor": 2
}
