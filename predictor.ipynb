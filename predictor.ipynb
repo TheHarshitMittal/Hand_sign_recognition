{
 "cells": [
  {
   "cell_type": "code",
   "execution_count": 1,
   "metadata": {},
   "outputs": [],
   "source": [
    "import cv2\n",
    "import numpy as np\n",
    "import tensorflow as tf"
   ]
  },
  {
   "cell_type": "code",
   "execution_count": 2,
   "metadata": {},
   "outputs": [],
   "source": [
    "# Load your pre-trained model\n",
    "model = tf.keras.models.load_model('model-bw1.h5')"
   ]
  },
  {
   "cell_type": "code",
   "execution_count": 3,
   "metadata": {},
   "outputs": [
    {
     "name": "stdout",
     "output_type": "stream",
     "text": [
      "1/1 [==============================] - 0s 272ms/step\n",
      "2\n",
      "(1, 200, 200, 1)\n",
      "1/1 [==============================] - 0s 45ms/step\n",
      "2\n",
      "(1, 200, 200, 1)\n",
      "1/1 [==============================] - 0s 45ms/step\n",
      "2\n",
      "(1, 200, 200, 1)\n",
      "1/1 [==============================] - 0s 47ms/step\n",
      "1\n",
      "(1, 200, 200, 1)\n",
      "1/1 [==============================] - 0s 42ms/step\n",
      "2\n",
      "(1, 200, 200, 1)\n",
      "1/1 [==============================] - 0s 46ms/step\n",
      "2\n",
      "(1, 200, 200, 1)\n"
     ]
    }
   ],
   "source": [
    "# Define the size of the small window\n",
    "window_size = (300, 300)\n",
    "\n",
    "# Start the webcam\n",
    "cap = cv2.VideoCapture(0)\n",
    "\n",
    "# Display the webcam feed\n",
    "while True:\n",
    "    # Get the next frame from the webcam\n",
    "    ret, frame = cap.read()\n",
    "\n",
    "    # If the frame is not empty, display it\n",
    "    if ret:\n",
    "        # Display the small window\n",
    "        cv2.rectangle(frame, (10, 10), (window_size[0] + 10, window_size[1] + 10), (255, 0, 0), 2)\n",
    "\n",
    "        # Display the webcam feed\n",
    "        cv2.imshow('Webcam Feed', frame)\n",
    "\n",
    "        # Capture a photo of the small window if the 'd' key is pressed\n",
    "        if cv2.waitKey(1) & 0xFF == ord('d'):\n",
    "            # Crop the small window from the frame\n",
    "            cropped_frame = frame[10:10+window_size[1], 10:10+window_size[0]]\n",
    "            \n",
    "            # Convert the frame to grayscale\n",
    "            gray = cv2.cvtColor(frame, cv2.COLOR_BGR2GRAY)\n",
    "\n",
    "            # Apply Canny edge filter to the grayscale frame\n",
    "            edges = cv2.Canny(gray, 150, 150)\n",
    "            \n",
    "            resized_img = cv2.resize(edges, (200, 200))\n",
    "            \n",
    "            resized_img_np = np.array(resized_img)\n",
    "            \n",
    "            reshaped_img = resized_img_np.reshape(1,200, 200, 1)\n",
    "            \n",
    "            \n",
    "            \n",
    "            # Make predictions using the pre-trained model\n",
    "            predictions = model.predict(reshaped_img)\n",
    "\n",
    "            # Get the predicted class index\n",
    "            predicted_class_index = np.argmax(predictions)\n",
    "            print(predicted_class_index)\n",
    "\n",
    "            # Get the class label (replace with your own class labels)\n",
    "            class_labels = ['1', '2', '3', '4', '5']  # Replace with your own class labels\n",
    "            predicted_class_label = class_labels[predicted_class_index]\n",
    "\n",
    "            # Display the predicted class label on the frame\n",
    "            cv2.putText(frame, f'Prediction: {predicted_class_label}', (10, 30),\n",
    "                    cv2.FONT_HERSHEY_SIMPLEX, 1, (0, 255, 0), 2)\n",
    "\n",
    "            img1 = reshaped_img.shape\n",
    "            print(img1)\n",
    "\n",
    "    # Press 'q' to quit\n",
    "    if cv2.waitKey(1) & 0xFF == ord('q'):\n",
    "        break\n",
    "\n",
    "# Release the webcam\n",
    "cap.release()\n",
    "\n",
    "# Close all windows\n",
    "cv2.destroyAllWindows()"
   ]
  },
  {
   "cell_type": "code",
   "execution_count": null,
   "metadata": {},
   "outputs": [],
   "source": []
  },
  {
   "cell_type": "code",
   "execution_count": null,
   "metadata": {},
   "outputs": [],
   "source": []
  }
 ],
 "metadata": {
  "kernelspec": {
   "display_name": "Python 3",
   "language": "python",
   "name": "python3"
  },
  "language_info": {
   "codemirror_mode": {
    "name": "ipython",
    "version": 3
   },
   "file_extension": ".py",
   "mimetype": "text/x-python",
   "name": "python",
   "nbconvert_exporter": "python",
   "pygments_lexer": "ipython3",
   "version": "3.10.5"
  }
 },
 "nbformat": 4,
 "nbformat_minor": 2
}
